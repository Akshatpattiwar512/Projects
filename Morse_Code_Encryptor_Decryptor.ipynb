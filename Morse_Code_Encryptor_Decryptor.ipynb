{
  "nbformat": 4,
  "nbformat_minor": 0,
  "metadata": {
    "colab": {
      "name": "Morse Code Encryptor/Decryptor",
      "provenance": [],
      "collapsed_sections": [],
      "authorship_tag": "ABX9TyPnKW3SLPIoA7ZIcPhs8569",
      "include_colab_link": true
    },
    "kernelspec": {
      "name": "python3",
      "display_name": "Python 3"
    },
    "language_info": {
      "name": "python"
    }
  },
  "cells": [
    {
      "cell_type": "markdown",
      "metadata": {
        "id": "view-in-github",
        "colab_type": "text"
      },
      "source": [
        "<a href=\"https://colab.research.google.com/github/Akshatpattiwar512/Projects/blob/main/Morse_Code_Encryptor_Decryptor.ipynb\" target=\"_parent\"><img src=\"https://colab.research.google.com/assets/colab-badge.svg\" alt=\"Open In Colab\"/></a>"
      ]
    },
    {
      "cell_type": "code",
      "metadata": {
        "id": "Q_OZvN2J0dsA"
      },
      "source": [
        "import pandas as pd\n"
      ],
      "execution_count": 1,
      "outputs": []
    },
    {
      "cell_type": "markdown",
      "metadata": {
        "id": "Nd-fBW2aQB3W"
      },
      "source": [
        "### **Morse Code Encrypter**"
      ]
    },
    {
      "cell_type": "code",
      "metadata": {
        "id": "2-q5RaD39gYl"
      },
      "source": [
        "MORSE_CODE_DICT = { 'A':'.-', 'B':'-...',\n",
        "   'C':'-.-.', 'D':'-..', 'E':'.',\n",
        "   'F':'..-.', 'G':'--.', 'H':'....',\n",
        "   'I':'..', 'J':'.---', 'K':'-.-',\n",
        "   'L':'.-..', 'M':'--', 'N':'-.',\n",
        "   'O':'---', 'P':'.--.', 'Q':'--.-',\n",
        "   'R':'.-.', 'S':'...', 'T':'-',\n",
        "   'U':'..-', 'V':'...-', 'W':'.--',\n",
        "   'X':'-..-', 'Y':'-.--', 'Z':'--..',\n",
        "   '1':'.----', '2':'..---', '3':'...--',\n",
        "   '4':'....-', '5':'.....', '6':'-....',\n",
        "   '7':'--...', '8':'---..', '9':'----.',\n",
        "   '0':'-----', ', ':'--..--', '.':'.-.-.-',\n",
        "   '?':'..--..', '/':'-..-.', '-':'-....-',\n",
        "   '(':'-.--.', ')':'-.--.-'\n",
        "}"
      ],
      "execution_count": 2,
      "outputs": []
    },
    {
      "cell_type": "code",
      "metadata": {
        "id": "canizG09K4_F"
      },
      "source": [
        "def encrypt(message):\n",
        "    cipher = ''\n",
        "    for letter in message:\n",
        "        if letter != ' ':\n",
        "            cipher += MORSE_CODE_DICT[letter] + ' '\n",
        "        else:\n",
        "            cipher += ' '\n",
        "  \n",
        "    return cipher\n",
        "  \n",
        "\n",
        "def decrypt(message):\n",
        "    message += ' '\n",
        "    decipher = ''\n",
        "    citext = ''\n",
        "    for letter in message:\n",
        "        if (letter != ' '):\n",
        "            i = 0\n",
        "            citext += letter\n",
        "        else:\n",
        "            i += 1\n",
        "            if i == 2 :\n",
        "                decipher += ' '\n",
        "            else:\n",
        "                decipher += list(MORSE_CODE_DICT.keys())[list(MORSE_CODE_DICT\n",
        "                .values()).index(citext)]\n",
        "                citext = ''\n",
        "  \n",
        "    return decipher\n",
        "df = pd.DataFrame(list(MORSE_CODE_DICT.items()),columns = ['Characters','codes'])\n"
      ],
      "execution_count": 3,
      "outputs": []
    },
    {
      "cell_type": "code",
      "metadata": {
        "colab": {
          "base_uri": "https://localhost:8080/"
        },
        "id": "WYl8aewA9cQG",
        "outputId": "233eb740-2d4f-423c-eea1-389977b110da"
      },
      "source": [
        "def main():\n",
        "   ED=input(\"Enter E for encryption or D for decryption or L for list of codes:\")\n",
        "   if ED==\"E\":\n",
        "     message = input(\" \")\n",
        "     output = encrypt(message.upper())\n",
        "     print (\"Encrypted code:  \",output)\n",
        "   elif ED==\"D\":\n",
        "    message = input(\" \")\n",
        "    output = decrypt(message)\n",
        "    print (\"Decrypted text:  \",output)\n",
        "   elif ED==\"L\":\n",
        "    print(df)\n",
        "   else:\n",
        "    print(\"Enter only E,D or L\")\n",
        "# Executes the main function\n",
        "if __name__ == '__main__':\n",
        "   main()"
      ],
      "execution_count": 4,
      "outputs": [
        {
          "output_type": "stream",
          "text": [
            "Enter E for encryption or D for decryption or L for list of codes:E\n",
            " Akshat\n",
            "Encrypted code:   .- -.- ... .... .- - \n"
          ],
          "name": "stdout"
        }
      ]
    }
  ]
}