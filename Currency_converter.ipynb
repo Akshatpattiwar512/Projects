{
  "nbformat": 4,
  "nbformat_minor": 0,
  "metadata": {
    "colab": {
      "name": "Currency converter",
      "provenance": [],
      "authorship_tag": "ABX9TyNl78X+Vp7ZDZIS0Q4ZOW8T",
      "include_colab_link": true
    },
    "kernelspec": {
      "name": "python3",
      "display_name": "Python 3"
    },
    "language_info": {
      "name": "python"
    }
  },
  "cells": [
    {
      "cell_type": "markdown",
      "metadata": {
        "id": "view-in-github",
        "colab_type": "text"
      },
      "source": [
        "<a href=\"https://colab.research.google.com/github/Akshatpattiwar512/Projects/blob/main/Currency_converter.ipynb\" target=\"_parent\"><img src=\"https://colab.research.google.com/assets/colab-badge.svg\" alt=\"Open In Colab\"/></a>"
      ]
    },
    {
      "cell_type": "code",
      "metadata": {
        "id": "3XdvlE6QP4QQ"
      },
      "source": [
        "import requests"
      ],
      "execution_count": 12,
      "outputs": []
    },
    {
      "cell_type": "code",
      "metadata": {
        "id": "nhf-4XBfMIZu"
      },
      "source": [
        "class Currency_convertor:\n",
        "    rates = {} \n",
        "    def __init__(self, url):\n",
        "        data = requests.get(url).json()\n",
        "        self.rates = data[\"rates\"] \n",
        "    def convert(self, from_currency, to_currency, amount):\n",
        "        initial_amount = amount\n",
        "        if from_currency != 'EUR' :\n",
        "            amount = amount / self.rates[from_currency]\n",
        "        amount = round(amount * self.rates[to_currency], 2)\n",
        "        print('{} {} = {} {}'.format(initial_amount, from_currency, amount, to_currency))"
      ],
      "execution_count": 13,
      "outputs": []
    },
    {
      "cell_type": "code",
      "metadata": {
        "colab": {
          "base_uri": "https://localhost:8080/"
        },
        "id": "cH1Zua3zPol5",
        "outputId": "154f4d6a-e1b5-41a4-affe-7a6a45703f26"
      },
      "source": [
        "if __name__ == \"__main__\":\n",
        "    url = str.__add__('http://data.fixer.io/api/latest?access_key=', '5fdc70799f3c55cdd927d33b3c93f991')  \n",
        "    c = Currency_convertor(url)\n",
        "    from_country = input(\"From Country: \")\n",
        "    to_country = input(\"TO Country: \")\n",
        "    amount = int(input(\"Amount: \"))\n",
        "  \n",
        "    c.convert(from_country, to_country, amount)"
      ],
      "execution_count": 15,
      "outputs": [
        {
          "output_type": "stream",
          "text": [
            "From Country: INR\n",
            "TO Country: AED\n",
            "Amount: 1\n",
            "1 INR = 0.05 AED\n"
          ],
          "name": "stdout"
        }
      ]
    },
    {
      "cell_type": "code",
      "metadata": {
        "id": "2p6sur6gaESK"
      },
      "source": [
        ""
      ],
      "execution_count": null,
      "outputs": []
    }
  ]
}