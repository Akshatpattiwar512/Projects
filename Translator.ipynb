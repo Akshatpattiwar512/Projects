{
  "nbformat": 4,
  "nbformat_minor": 0,
  "metadata": {
    "colab": {
      "name": "Translator",
      "provenance": [],
      "authorship_tag": "ABX9TyP3peQnR6Jfyrr3ykjUyUtt",
      "include_colab_link": true
    },
    "kernelspec": {
      "name": "python3",
      "display_name": "Python 3"
    },
    "language_info": {
      "name": "python"
    }
  },
  "cells": [
    {
      "cell_type": "markdown",
      "metadata": {
        "id": "view-in-github",
        "colab_type": "text"
      },
      "source": [
        "<a href=\"https://colab.research.google.com/github/Akshatpattiwar512/Projects/blob/main/Translator.ipynb\" target=\"_parent\"><img src=\"https://colab.research.google.com/assets/colab-badge.svg\" alt=\"Open In Colab\"/></a>"
      ]
    },
    {
      "cell_type": "code",
      "metadata": {
        "colab": {
          "base_uri": "https://localhost:8080/"
        },
        "id": "0eJPwDdIFvq-",
        "outputId": "1a3af861-6424-410c-dc4b-5c313734dfde"
      },
      "source": [
        "!pip install deep-translator"
      ],
      "execution_count": 11,
      "outputs": [
        {
          "output_type": "stream",
          "text": [
            "Requirement already satisfied: deep-translator in /usr/local/lib/python3.7/dist-packages (1.4.2)\n",
            "Requirement already satisfied: beautifulsoup4 in /usr/local/lib/python3.7/dist-packages (from deep-translator) (4.6.3)\n",
            "Requirement already satisfied: requests in /usr/local/lib/python3.7/dist-packages (from deep-translator) (2.23.0)\n",
            "Requirement already satisfied: idna<3,>=2.5 in /usr/local/lib/python3.7/dist-packages (from requests->deep-translator) (2.10)\n",
            "Requirement already satisfied: chardet<4,>=3.0.2 in /usr/local/lib/python3.7/dist-packages (from requests->deep-translator) (3.0.4)\n",
            "Requirement already satisfied: urllib3!=1.25.0,!=1.25.1,<1.26,>=1.21.1 in /usr/local/lib/python3.7/dist-packages (from requests->deep-translator) (1.24.3)\n",
            "Requirement already satisfied: certifi>=2017.4.17 in /usr/local/lib/python3.7/dist-packages (from requests->deep-translator) (2020.12.5)\n"
          ],
          "name": "stdout"
        }
      ]
    },
    {
      "cell_type": "code",
      "metadata": {
        "id": "qR4GiNZTTs0P"
      },
      "source": [
        "from deep_translator import (GoogleTranslator,\n",
        "MicrosoftTranslator,\n",
        "PonsTranslator,\n",
        "LingueeTranslator,\n",
        "MyMemoryTranslator,\n",
        "YandexTranslator,\n",
        "DeepL,\n",
        "QCRI,\n",
        "single_detection,\n",
        "batch_detection)"
      ],
      "execution_count": 12,
      "outputs": []
    },
    {
      "cell_type": "code",
      "metadata": {
        "colab": {
          "base_uri": "https://localhost:8080/"
        },
        "id": "nj29lA62K9ew",
        "outputId": "84308e07-f9d8-4570-aef2-cfdf63886f68"
      },
      "source": [
        "langs_dict = GoogleTranslator.get_supported_languages(as_dict=True)\n",
        "langs_dict"
      ],
      "execution_count": 13,
      "outputs": [
        {
          "output_type": "execute_result",
          "data": {
            "text/plain": [
              "{'Filipino': 'fil',\n",
              " 'Hebrew': 'he',\n",
              " 'afrikaans': 'af',\n",
              " 'albanian': 'sq',\n",
              " 'amharic': 'am',\n",
              " 'arabic': 'ar',\n",
              " 'armenian': 'hy',\n",
              " 'azerbaijani': 'az',\n",
              " 'basque': 'eu',\n",
              " 'belarusian': 'be',\n",
              " 'bengali': 'bn',\n",
              " 'bosnian': 'bs',\n",
              " 'bulgarian': 'bg',\n",
              " 'catalan': 'ca',\n",
              " 'cebuano': 'ceb',\n",
              " 'chichewa': 'ny',\n",
              " 'chinese': 'zh',\n",
              " 'chinese (simplified)': 'zh-cn',\n",
              " 'chinese (traditional)': 'zh-tw',\n",
              " 'corsican': 'co',\n",
              " 'croatian': 'hr',\n",
              " 'czech': 'cs',\n",
              " 'danish': 'da',\n",
              " 'dutch': 'nl',\n",
              " 'english': 'en',\n",
              " 'esperanto': 'eo',\n",
              " 'estonian': 'et',\n",
              " 'filipino': 'tl',\n",
              " 'finnish': 'fi',\n",
              " 'french': 'fr',\n",
              " 'frisian': 'fy',\n",
              " 'galician': 'gl',\n",
              " 'georgian': 'ka',\n",
              " 'german': 'de',\n",
              " 'greek': 'el',\n",
              " 'gujarati': 'gu',\n",
              " 'haitian creole': 'ht',\n",
              " 'hausa': 'ha',\n",
              " 'hawaiian': 'haw',\n",
              " 'hebrew': 'iw',\n",
              " 'hindi': 'hi',\n",
              " 'hmong': 'hmn',\n",
              " 'hungarian': 'hu',\n",
              " 'icelandic': 'is',\n",
              " 'igbo': 'ig',\n",
              " 'indonesian': 'id',\n",
              " 'irish': 'ga',\n",
              " 'italian': 'it',\n",
              " 'japanese': 'ja',\n",
              " 'javanese': 'jw',\n",
              " 'kannada': 'kn',\n",
              " 'kazakh': 'kk',\n",
              " 'khmer': 'km',\n",
              " 'korean': 'ko',\n",
              " 'kurdish (kurmanji)': 'ku',\n",
              " 'kyrgyz': 'ky',\n",
              " 'lao': 'lo',\n",
              " 'latin': 'la',\n",
              " 'latvian': 'lv',\n",
              " 'lithuanian': 'lt',\n",
              " 'luxembourgish': 'lb',\n",
              " 'macedonian': 'mk',\n",
              " 'malagasy': 'mg',\n",
              " 'malay': 'ms',\n",
              " 'malayalam': 'ml',\n",
              " 'maltese': 'mt',\n",
              " 'maori': 'mi',\n",
              " 'marathi': 'mr',\n",
              " 'mongolian': 'mn',\n",
              " 'myanmar (burmese)': 'my',\n",
              " 'nepali': 'ne',\n",
              " 'norwegian': 'no',\n",
              " 'pashto': 'ps',\n",
              " 'persian': 'fa',\n",
              " 'polish': 'pl',\n",
              " 'portuguese': 'pt',\n",
              " 'punjabi': 'pa',\n",
              " 'romanian': 'ro',\n",
              " 'russian': 'ru',\n",
              " 'samoan': 'sm',\n",
              " 'scots gaelic': 'gd',\n",
              " 'serbian': 'sr',\n",
              " 'sesotho': 'st',\n",
              " 'shona': 'sn',\n",
              " 'sindhi': 'sd',\n",
              " 'sinhala': 'si',\n",
              " 'slovak': 'sk',\n",
              " 'slovenian': 'sl',\n",
              " 'somali': 'so',\n",
              " 'spanish': 'es',\n",
              " 'sundanese': 'su',\n",
              " 'swahili': 'sw',\n",
              " 'swedish': 'sv',\n",
              " 'tajik': 'tg',\n",
              " 'tamil': 'ta',\n",
              " 'telugu': 'te',\n",
              " 'thai': 'th',\n",
              " 'turkish': 'tr',\n",
              " 'ukrainian': 'uk',\n",
              " 'urdu': 'ur',\n",
              " 'uzbek': 'uz',\n",
              " 'vietnamese': 'vi',\n",
              " 'welsh': 'cy',\n",
              " 'xhosa': 'xh',\n",
              " 'yiddish': 'yi',\n",
              " 'yoruba': 'yo',\n",
              " 'zulu': 'zu'}"
            ]
          },
          "metadata": {
            "tags": []
          },
          "execution_count": 13
        }
      ]
    },
    {
      "cell_type": "code",
      "metadata": {
        "colab": {
          "base_uri": "https://localhost:8080/"
        },
        "id": "qpUhzpyAF7Fp",
        "outputId": "2806925b-8ab0-4a43-e627-a683d75e09fc"
      },
      "source": [
        "from deep_translator import GoogleTranslator\n",
        "print(\"----------------------------------------------------Translator-----------------------------------------------\")\n",
        "to_translate = input(\"Enter text to be translated: \")\n",
        "target=input(\"Enter the translation language: \")\n",
        "print(\"-------------------------------------------------------------------------------------------------------------\")\n",
        "print(\"Original Text:  \",to_translate)\n",
        "Olang = single_detection(to_translate, api_key='da65165538b1b8c2f28dd4088e766e65')\n",
        "Okeys = list(langs_dict.keys())\n",
        "Ovals = list(langs_dict.values())\n",
        "print(\"Original text language:\",Okeys[Ovals.index(Olang)])\n",
        "print(\"-------------------------------------------------------------------------------------------------------------\")\n",
        "translated = GoogleTranslator(source='auto', target=target).translate(to_translate)\n",
        "print(\"Translated Text: \",translated)\n",
        "Tlang = single_detection(translated, api_key='da65165538b1b8c2f28dd4088e766e65')\n",
        "Tkeys = list(langs_dict.keys())\n",
        "Tvals = list(langs_dict.values())\n",
        "print(\"Translated text language:\",Tkeys[Tvals.index(Tlang)])"
      ],
      "execution_count": 16,
      "outputs": [
        {
          "output_type": "stream",
          "text": [
            "----------------------------------------------------Translator-----------------------------------------------\n",
            "Enter text to be translated: Translated text\n",
            "Enter the translation language: mr\n",
            "-------------------------------------------------------------------------------------------------------------\n",
            "Original Text:   Translated text\n",
            "Original text language: english\n",
            "-------------------------------------------------------------------------------------------------------------\n",
            "Translated Text:  अनुवादित मजकूर\n",
            "Translated text language: marathi\n"
          ],
          "name": "stdout"
        }
      ]
    },
    {
      "cell_type": "code",
      "metadata": {
        "id": "vS2RtFVyUK6d"
      },
      "source": [
        ""
      ],
      "execution_count": null,
      "outputs": []
    }
  ]
}