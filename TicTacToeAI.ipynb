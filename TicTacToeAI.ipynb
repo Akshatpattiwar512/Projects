{
  "nbformat": 4,
  "nbformat_minor": 0,
  "metadata": {
    "colab": {
      "name": "TicTacToeAI",
      "provenance": [],
      "authorship_tag": "ABX9TyMw7C+qxLF4guK6Y0/53YPv",
      "include_colab_link": true
    },
    "kernelspec": {
      "name": "python3",
      "display_name": "Python 3"
    },
    "language_info": {
      "name": "python"
    }
  },
  "cells": [
    {
      "cell_type": "markdown",
      "metadata": {
        "id": "view-in-github",
        "colab_type": "text"
      },
      "source": [
        "<a href=\"https://colab.research.google.com/github/Akshatpattiwar512/Projects/blob/main/TicTacToeAI.ipynb\" target=\"_parent\"><img src=\"https://colab.research.google.com/assets/colab-badge.svg\" alt=\"Open In Colab\"/></a>"
      ]
    },
    {
      "cell_type": "code",
      "metadata": {
        "id": "fHZcnokur9KE"
      },
      "source": [
        "def printBoard(board):\n",
        "    print(board[1] + '|' + board[2] + '|' + board[3])\n",
        "    print('-+-+-')\n",
        "    print(board[4] + '|' + board[5] + '|' + board[6])\n",
        "    print('-+-+-')\n",
        "    print(board[7] + '|' + board[8] + '|' + board[9])\n",
        "    print(\"\\n\")"
      ],
      "execution_count": 2,
      "outputs": []
    },
    {
      "cell_type": "code",
      "metadata": {
        "id": "5cgtv9DXsCPh"
      },
      "source": [
        "def spaceIsFree(position):\n",
        "    if board[position] == ' ':\n",
        "        return True\n",
        "    else:\n",
        "        return False"
      ],
      "execution_count": 3,
      "outputs": []
    },
    {
      "cell_type": "code",
      "metadata": {
        "id": "jY772g1NxChS"
      },
      "source": [
        "def insertLetter(letter, position):\n",
        "    if spaceIsFree(position):\n",
        "        board[position] = letter\n",
        "        printBoard(board)\n",
        "        if (checkDraw()):\n",
        "            print(\"Draw!\")\n",
        "            exit()\n",
        "        if checkForWin():\n",
        "            if letter == 'X':\n",
        "                print(\"Bot wins!\")\n",
        "                exit()\n",
        "            else:\n",
        "                print(\"Player wins!\")\n",
        "                exit()\n",
        "\n",
        "        return\n",
        "\n",
        "\n",
        "    else:\n",
        "        print(\"Can't insert there!\")\n",
        "        position = int(input(\"Please enter new position:  \"))\n",
        "        insertLetter(letter, position)\n",
        "        return"
      ],
      "execution_count": 4,
      "outputs": []
    },
    {
      "cell_type": "code",
      "metadata": {
        "id": "JjikcCltxGEY"
      },
      "source": [
        "def checkForWin():\n",
        "    if (board[1] == board[2] and board[1] == board[3] and board[1] != ' '):\n",
        "        return True\n",
        "    elif (board[4] == board[5] and board[4] == board[6] and board[4] != ' '):\n",
        "        return True\n",
        "    elif (board[7] == board[8] and board[7] == board[9] and board[7] != ' '):\n",
        "        return True\n",
        "    elif (board[1] == board[4] and board[1] == board[7] and board[1] != ' '):\n",
        "        return True\n",
        "    elif (board[2] == board[5] and board[2] == board[8] and board[2] != ' '):\n",
        "        return True\n",
        "    elif (board[3] == board[6] and board[3] == board[9] and board[3] != ' '):\n",
        "        return True\n",
        "    elif (board[1] == board[5] and board[1] == board[9] and board[1] != ' '):\n",
        "        return True\n",
        "    elif (board[7] == board[5] and board[7] == board[3] and board[7] != ' '):\n",
        "        return True\n",
        "    else:\n",
        "        return False"
      ],
      "execution_count": 5,
      "outputs": []
    },
    {
      "cell_type": "code",
      "metadata": {
        "id": "A8zIhWlFxJCE"
      },
      "source": [
        "def checkWhichMarkWon(mark):\n",
        "    if board[1] == board[2] and board[1] == board[3] and board[1] == mark:\n",
        "        return True\n",
        "    elif (board[4] == board[5] and board[4] == board[6] and board[4] == mark):\n",
        "        return True\n",
        "    elif (board[7] == board[8] and board[7] == board[9] and board[7] == mark):\n",
        "        return True\n",
        "    elif (board[1] == board[4] and board[1] == board[7] and board[1] == mark):\n",
        "        return True\n",
        "    elif (board[2] == board[5] and board[2] == board[8] and board[2] == mark):\n",
        "        return True\n",
        "    elif (board[3] == board[6] and board[3] == board[9] and board[3] == mark):\n",
        "        return True\n",
        "    elif (board[1] == board[5] and board[1] == board[9] and board[1] == mark):\n",
        "        return True\n",
        "    elif (board[7] == board[5] and board[7] == board[3] and board[7] == mark):\n",
        "        return True\n",
        "    else:\n",
        "        return False"
      ],
      "execution_count": 6,
      "outputs": []
    },
    {
      "cell_type": "code",
      "metadata": {
        "id": "mx0XyAFjxLct"
      },
      "source": [
        "def checkDraw():\n",
        "    for key in board.keys():\n",
        "        if (board[key] == ' '):\n",
        "            return False\n",
        "    return True"
      ],
      "execution_count": 7,
      "outputs": []
    },
    {
      "cell_type": "code",
      "metadata": {
        "id": "2kdhU-p6xOpl"
      },
      "source": [
        "def playerMove():\n",
        "    position = int(input(\"Enter the position for 'O':  \"))\n",
        "    insertLetter(player, position)\n",
        "    return"
      ],
      "execution_count": 8,
      "outputs": []
    },
    {
      "cell_type": "code",
      "metadata": {
        "id": "A39KiqDKxRw9"
      },
      "source": [
        "def compMove():\n",
        "    bestScore = -800\n",
        "    bestMove = 0\n",
        "    for key in board.keys():\n",
        "        if (board[key] == ' '):\n",
        "            board[key] = bot\n",
        "            score = minimax(board, 0, False)\n",
        "            board[key] = ' '\n",
        "            if (score > bestScore):\n",
        "                bestScore = score\n",
        "                bestMove = key\n",
        "\n",
        "    insertLetter(bot, bestMove)\n",
        "    return"
      ],
      "execution_count": 9,
      "outputs": []
    },
    {
      "cell_type": "code",
      "metadata": {
        "id": "rZWLATOJxT0r"
      },
      "source": [
        "def minimax(board, depth, isMaximizing):\n",
        "    if (checkWhichMarkWon(bot)):\n",
        "        return 1\n",
        "    elif (checkWhichMarkWon(player)):\n",
        "        return -1\n",
        "    elif (checkDraw()):\n",
        "        return 0\n",
        "\n",
        "    if (isMaximizing):\n",
        "        bestScore = -800\n",
        "        for key in board.keys():\n",
        "            if (board[key] == ' '):\n",
        "                board[key] = bot\n",
        "                score = minimax(board, depth + 1, False)\n",
        "                board[key] = ' '\n",
        "                if (score > bestScore):\n",
        "                    bestScore = score\n",
        "        return bestScore\n",
        "\n",
        "    else:\n",
        "        bestScore = 800\n",
        "        for key in board.keys():\n",
        "            if (board[key] == ' '):\n",
        "                board[key] = player\n",
        "                score = minimax(board, depth + 1, True)\n",
        "                board[key] = ' '\n",
        "                if (score < bestScore):\n",
        "                    bestScore = score\n",
        "        return bestScore"
      ],
      "execution_count": 10,
      "outputs": []
    },
    {
      "cell_type": "code",
      "metadata": {
        "id": "a8TO-RNMxWNW"
      },
      "source": [
        "board = {1: ' ', 2: ' ', 3: ' ',\n",
        "         4: ' ', 5: ' ', 6: ' ',\n",
        "         7: ' ', 8: ' ', 9: ' '}\n",
        "\n",
        "printBoard(board)\n",
        "print(\"Computer goes first! Good luck.\")\n",
        "print(\"Positions are as follow:\")\n",
        "print(\"1, 2, 3 \")\n",
        "print(\"4, 5, 6 \")\n",
        "print(\"7, 8, 9 \")\n",
        "print(\"\\n\")\n",
        "player = 'O'\n",
        "bot = 'X'\n",
        "\n",
        "\n",
        "global firstComputerMove\n",
        "firstComputerMove = True\n",
        "\n",
        "while not checkForWin():\n",
        "    compMove()\n",
        "    playerMove()"
      ],
      "execution_count": null,
      "outputs": []
    }
  ]
}